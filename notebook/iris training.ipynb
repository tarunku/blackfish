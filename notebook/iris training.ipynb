{
 "cells": [
  {
   "cell_type": "markdown",
   "metadata": {},
   "source": [
    "###### Initialize Spark Session "
   ]
  },
  {
   "cell_type": "code",
   "execution_count": 1,
   "metadata": {},
   "outputs": [],
   "source": [
    "import os\n",
    "os.environ['PYSPARK_SUBMIT_ARGS'] = '--packages ml.combust.mleap:mleap-spark_2.11:0.16.0 pyspark-shell'"
   ]
  },
  {
   "cell_type": "code",
   "execution_count": 2,
   "metadata": {},
   "outputs": [],
   "source": [
    "import findspark\n",
    "findspark.init()\n",
    "\n",
    "from pyspark.sql.session import SparkSession\n",
    "spark = SparkSession.builder.appName('Hello_APP2').master('local[*]').getOrCreate()"
   ]
  },
  {
   "cell_type": "markdown",
   "metadata": {},
   "source": [
    "###### Initialize MLeap enviornment"
   ]
  },
  {
   "cell_type": "code",
   "execution_count": 3,
   "metadata": {},
   "outputs": [],
   "source": [
    "import sys\n",
    "sys.path.append('mleap/python')\n",
    "import mleap.pyspark"
   ]
  },
  {
   "cell_type": "code",
   "execution_count": 4,
   "metadata": {},
   "outputs": [],
   "source": [
    "from pyspark.ml.feature import VectorAssembler, StandardScaler, OneHotEncoder, StringIndexer\n",
    "from pyspark.ml import Pipeline, PipelineModel\n",
    "from pyspark.sql.types import StructType, StructField, StringType, DoubleType"
   ]
  },
  {
   "cell_type": "code",
   "execution_count": 5,
   "metadata": {},
   "outputs": [
    {
     "name": "stdout",
     "output_type": "stream",
     "text": [
      "root\n",
      " |-- SepalLength: double (nullable = true)\n",
      " |-- SepalWidth: double (nullable = true)\n",
      " |-- PetalLength: double (nullable = true)\n",
      " |-- PetalWidth: double (nullable = true)\n",
      " |-- Species: string (nullable = true)\n",
      "\n"
     ]
    }
   ],
   "source": [
    "#Create a test data frame\n",
    "schema = StructType(\n",
    "    [\n",
    "        StructField(\"SepalLength\", DoubleType(), True),\n",
    "        StructField(\"SepalWidth\", DoubleType(), True),\n",
    "        StructField(\"PetalLength\", DoubleType(), True),\n",
    "        StructField(\"PetalWidth\", DoubleType(), True),\n",
    "        StructField(\"Species\", StringType(), True),\n",
    "    ]\n",
    ")\n",
    "\n",
    "irisdf = spark.read.csv('iris.csv', schema = schema, header = True)\n",
    "irisdf.printSchema()"
   ]
  },
  {
   "cell_type": "code",
   "execution_count": 6,
   "metadata": {},
   "outputs": [
    {
     "name": "stdout",
     "output_type": "stream",
     "text": [
      "103\n",
      "47\n"
     ]
    }
   ],
   "source": [
    "(trainingData, testData) = irisdf.randomSplit([0.7, 0.3], seed = 100)\n",
    "\n",
    "trainingData.cache()\n",
    "testData.cache()\n",
    "\n",
    "print(trainingData.count())\n",
    "print(testData.count())"
   ]
  },
  {
   "cell_type": "code",
   "execution_count": 7,
   "metadata": {},
   "outputs": [],
   "source": [
    "from pyspark.ml.feature import VectorAssembler\n",
    "\n",
    "vecAssembler = VectorAssembler(inputCols=[\"SepalLength\", \"SepalWidth\", \"PetalLength\", \"PetalWidth\"], outputCol=\"features\")"
   ]
  },
  {
   "cell_type": "code",
   "execution_count": 8,
   "metadata": {},
   "outputs": [],
   "source": [
    "from pyspark.ml.feature import StringIndexer\n",
    "# Convert target into numerical categories\n",
    "labelIndexer = StringIndexer(inputCol=\"Species\", outputCol=\"label\")"
   ]
  },
  {
   "cell_type": "code",
   "execution_count": 9,
   "metadata": {},
   "outputs": [],
   "source": [
    "from pyspark.ml.classification import NaiveBayes\n",
    "from pyspark.ml import Pipeline\n",
    "\n",
    "# Train a NaiveBayes model\n",
    "nb = NaiveBayes(smoothing=1.0, modelType=\"multinomial\")\n",
    "\n",
    "# Chain labelIndexer, vecAssembler and NBmodel in a \n",
    "pipeline = Pipeline(stages=[labelIndexer, vecAssembler, nb])\n",
    "\n",
    "# Run stages in pipeline and train model\n",
    "model = pipeline.fit(trainingData)"
   ]
  },
  {
   "cell_type": "code",
   "execution_count": 10,
   "metadata": {},
   "outputs": [
    {
     "name": "stdout",
     "output_type": "stream",
     "text": [
      "+-----+----------+--------------------+\n",
      "|label|prediction|         probability|\n",
      "+-----+----------+--------------------+\n",
      "|  2.0|       2.0|[0.29698237383357...|\n",
      "|  2.0|       2.0|[0.21798511589122...|\n",
      "|  2.0|       2.0|[0.15141773405828...|\n",
      "|  2.0|       2.0|[0.20436085847774...|\n",
      "|  2.0|       2.0|[0.24788699074567...|\n",
      "|  2.0|       2.0|[0.22533897917645...|\n",
      "|  2.0|       2.0|[0.21072257132948...|\n",
      "|  2.0|       2.0|[0.16530848479213...|\n",
      "|  2.0|       2.0|[0.18841991732741...|\n",
      "|  2.0|       2.0|[0.20023264276145...|\n",
      "|  2.0|       2.0|[0.28149718404605...|\n",
      "|  2.0|       2.0|[0.20037174080684...|\n",
      "|  2.0|       2.0|[0.18351954523753...|\n",
      "|  2.0|       2.0|[0.24433103432406...|\n",
      "|  2.0|       2.0|[0.18864884421606...|\n",
      "|  2.0|       2.0|[0.17451529522505...|\n",
      "|  2.0|       2.0|[0.17250580082906...|\n",
      "|  0.0|       0.0|[0.49917720827077...|\n",
      "|  2.0|       2.0|[0.16640704731458...|\n",
      "|  0.0|       0.0|[0.50561466273043...|\n",
      "+-----+----------+--------------------+\n",
      "only showing top 20 rows\n",
      "\n"
     ]
    }
   ],
   "source": [
    "predictions = model.transform(testData)\n",
    "predictions.select(\"label\", \"prediction\", \"probability\").show()"
   ]
  },
  {
   "cell_type": "code",
   "execution_count": 11,
   "metadata": {},
   "outputs": [
    {
     "name": "stdout",
     "output_type": "stream",
     "text": [
      "+-----+----------+--------------------+\n",
      "|label|prediction|         probability|\n",
      "+-----+----------+--------------------+\n",
      "|  2.0|       0.0|[0.99820596719649...|\n",
      "+-----+----------+--------------------+\n",
      "\n"
     ]
    }
   ],
   "source": [
    "#Check if model is working on rendom datapoints\n",
    "\n",
    "data_point = [[400.0,300.0,100.0,200.0,'Setosa']]\n",
    "df = spark.createDataFrame(data_point, schema=schema)\n",
    "\n",
    "predictions = model.transform(df)\n",
    "predictions.select(\"label\", \"prediction\", \"probability\").show()"
   ]
  },
  {
   "cell_type": "code",
   "execution_count": 19,
   "metadata": {},
   "outputs": [],
   "source": [
    "# serialize the model for online prediction\n",
    "\n",
    "import mleap.pyspark\n",
    "from mleap.pyspark.spark_support import SimpleSparkSerializer\n",
    "\n",
    "# MLeap's pyspark_model.serializeToBundle(output_path) requires output_path to be an absolute path;\n",
    "model.serializeToBundle(\"jar:file:/__Code/mdl_lfy/model/iris_spark_model.zip\", model.transform(trainingData))"
   ]
  },
  {
   "cell_type": "code",
   "execution_count": null,
   "metadata": {},
   "outputs": [],
   "source": []
  }
 ],
 "metadata": {
  "kernelspec": {
   "display_name": "Python 3",
   "language": "python",
   "name": "python3"
  },
  "language_info": {
   "codemirror_mode": {
    "name": "ipython",
    "version": 3
   },
   "file_extension": ".py",
   "mimetype": "text/x-python",
   "name": "python",
   "nbconvert_exporter": "python",
   "pygments_lexer": "ipython3",
   "version": "3.7.0"
  }
 },
 "nbformat": 4,
 "nbformat_minor": 2
}
